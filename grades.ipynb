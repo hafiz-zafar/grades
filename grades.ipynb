{
 "cells": [
  {
   "cell_type": "code",
   "execution_count": 1,
   "metadata": {},
   "outputs": [
    {
     "name": "stdout",
     "output_type": "stream",
     "text": [
      "Models and label encoder saved successfully!\n"
     ]
    }
   ],
   "source": [
    "import pandas as pd\n",
    "import numpy as np\n",
    "from sklearn.neural_network import MLPRegressor, MLPClassifier\n",
    "from sklearn.model_selection import train_test_split\n",
    "from sklearn.preprocessing import LabelEncoder, StandardScaler\n",
    "import joblib\n",
    "\n",
    "# Generate random data for student grades\n",
    "np.random.seed(42)\n",
    "num_students = 5000\n",
    "courses = [f\"500{i}\" for i in range(8)] \n",
    "student_ids = [f\"S{i+1:03d}\" for i in range(num_students)]\n",
    "\n",
    "# Random scores (0-100)\n",
    "scores = np.random.randint(50, 100, size=(num_students, len(courses)))\n",
    "\n",
    "# Map scores to grades\n",
    "def map_score_to_grade(score):\n",
    "    if score >= 80:\n",
    "        return \"A\"\n",
    "    elif score >= 70:\n",
    "        return \"B\"\n",
    "    elif score >= 60:\n",
    "        return \"C\"\n",
    "    elif score >= 50:\n",
    "        return \"D\"\n",
    "    else:\n",
    "        return \"F\"\n",
    "\n",
    "# Create a DataFrame\n",
    "data = pd.DataFrame(scores, columns=courses, index=student_ids)\n",
    "\n",
    "# Generate grades for each student\n",
    "data[\"Grades\"] = [list(map(map_score_to_grade, row)) for row in data[courses].values]\n",
    "\n",
    "# Add Final Score and Final Grade (calculated based on course scores)\n",
    "data[\"Final Score\"] = np.mean(data[courses].values, axis=1).astype(int)  # Average of all course scores\n",
    "data[\"Final Grade\"] = data[\"Final Score\"].apply(map_score_to_grade)\n",
    "\n",
    "# Encode grades to numerical values\n",
    "label_encoder = LabelEncoder()\n",
    "flattened_grades = [grade for sublist in data[\"Grades\"] for grade in sublist]\n",
    "label_encoder.fit(flattened_grades)  # Fit on all possible grades\n",
    "\n",
    "# Prepare data for ANN\n",
    "X = data[courses].values  # Features: scores of all courses\n",
    "y_score = data[\"Final Score\"].values  # Target: final score\n",
    "y_grade = label_encoder.transform(data[\"Final Grade\"])  # Target: final grade\n",
    "\n",
    "# Split data into training and testing sets\n",
    "X_train, X_test, y_train_score, y_test_score, y_train_grade, y_test_grade = train_test_split(\n",
    "    X, y_score, y_grade, test_size=0.2, random_state=42\n",
    ")\n",
    "\n",
    "# Standardize the features\n",
    "scaler = StandardScaler()\n",
    "X_train_scaled = scaler.fit_transform(X_train)\n",
    "X_test_scaled = scaler.transform(X_test)\n",
    "\n",
    "# Train ANN model for score prediction (regression)\n",
    "model_score = MLPRegressor(hidden_layer_sizes=(64, 32), max_iter=1000, random_state=42, solver='adam')\n",
    "model_score.fit(X_train_scaled, y_train_score)\n",
    "\n",
    "# Train ANN model for grade prediction (classification)\n",
    "model_grade = MLPClassifier(hidden_layer_sizes=(64, 32), max_iter=1000, random_state=42, solver='adam')\n",
    "model_grade.fit(X_train_scaled, y_train_grade)\n",
    "\n",
    "# Save the models and label encoder\n",
    "joblib.dump(model_score, \"student_score_model.pkl\")\n",
    "joblib.dump(model_grade, \"student_grade_model.pkl\")\n",
    "joblib.dump(label_encoder, \"label_encoder.pkl\")\n",
    "joblib.dump(scaler, \"scaler.pkl\")\n",
    "\n",
    "print(\"Models and label encoder saved successfully!\")"
   ]
  },
  {
   "cell_type": "code",
   "execution_count": null,
   "metadata": {},
   "outputs": [],
   "source": []
  },
  {
   "cell_type": "code",
   "execution_count": null,
   "metadata": {},
   "outputs": [],
   "source": []
  },
  {
   "cell_type": "code",
   "execution_count": null,
   "metadata": {},
   "outputs": [],
   "source": []
  },
  {
   "cell_type": "code",
   "execution_count": null,
   "metadata": {},
   "outputs": [],
   "source": []
  },
  {
   "cell_type": "code",
   "execution_count": null,
   "metadata": {},
   "outputs": [],
   "source": []
  }
 ],
 "metadata": {
  "kernelspec": {
   "display_name": "Python 3",
   "language": "python",
   "name": "python3"
  },
  "language_info": {
   "codemirror_mode": {
    "name": "ipython",
    "version": 3
   },
   "file_extension": ".py",
   "mimetype": "text/x-python",
   "name": "python",
   "nbconvert_exporter": "python",
   "pygments_lexer": "ipython3",
   "version": "3.12.0"
  }
 },
 "nbformat": 4,
 "nbformat_minor": 2
}
